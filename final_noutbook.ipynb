{
 "cells": [
  {
   "cell_type": "code",
   "execution_count": 1,
   "metadata": {
    "id": "0yYQUNf2gQaA"
   },
   "outputs": [
    {
     "name": "stdout",
     "output_type": "stream",
     "text": [
      "Requirement already satisfied: scrapy in ./opt/anaconda3/lib/python3.9/site-packages (2.6.1)\n",
      "Requirement already satisfied: cssselect>=0.9.1 in ./opt/anaconda3/lib/python3.9/site-packages (from scrapy) (1.1.0)\n",
      "Requirement already satisfied: queuelib>=1.4.2 in ./opt/anaconda3/lib/python3.9/site-packages (from scrapy) (1.6.2)\n",
      "Requirement already satisfied: itemloaders>=1.0.1 in ./opt/anaconda3/lib/python3.9/site-packages (from scrapy) (1.0.4)\n",
      "Requirement already satisfied: Twisted>=17.9.0 in ./opt/anaconda3/lib/python3.9/site-packages (from scrapy) (22.4.0)\n",
      "Requirement already satisfied: PyDispatcher>=2.0.5 in ./opt/anaconda3/lib/python3.9/site-packages (from scrapy) (2.0.5)\n",
      "Requirement already satisfied: w3lib>=1.17.0 in ./opt/anaconda3/lib/python3.9/site-packages (from scrapy) (1.22.0)\n",
      "Requirement already satisfied: tldextract in ./opt/anaconda3/lib/python3.9/site-packages (from scrapy) (3.3.0)\n",
      "Requirement already satisfied: cryptography>=2.0 in ./opt/anaconda3/lib/python3.9/site-packages (from scrapy) (3.4.8)\n",
      "Requirement already satisfied: service-identity>=16.0.0 in ./opt/anaconda3/lib/python3.9/site-packages (from scrapy) (21.1.0)\n",
      "Requirement already satisfied: itemadapter>=0.1.0 in ./opt/anaconda3/lib/python3.9/site-packages (from scrapy) (0.6.0)\n",
      "Requirement already satisfied: pyOpenSSL>=16.2.0 in ./opt/anaconda3/lib/python3.9/site-packages (from scrapy) (21.0.0)\n",
      "Requirement already satisfied: setuptools in ./opt/anaconda3/lib/python3.9/site-packages (from scrapy) (58.0.4)\n",
      "Requirement already satisfied: zope.interface>=4.1.3 in ./opt/anaconda3/lib/python3.9/site-packages (from scrapy) (5.4.0)\n",
      "Requirement already satisfied: protego>=0.1.15 in ./opt/anaconda3/lib/python3.9/site-packages (from scrapy) (0.2.1)\n",
      "Requirement already satisfied: lxml>=3.5.0 in ./opt/anaconda3/lib/python3.9/site-packages (from scrapy) (4.6.3)\n",
      "Requirement already satisfied: parsel>=1.5.0 in ./opt/anaconda3/lib/python3.9/site-packages (from scrapy) (1.6.0)\n",
      "Requirement already satisfied: cffi>=1.12 in ./opt/anaconda3/lib/python3.9/site-packages (from cryptography>=2.0->scrapy) (1.14.6)\n",
      "Requirement already satisfied: pycparser in ./opt/anaconda3/lib/python3.9/site-packages (from cffi>=1.12->cryptography>=2.0->scrapy) (2.20)\n",
      "Requirement already satisfied: jmespath>=0.9.5 in ./opt/anaconda3/lib/python3.9/site-packages (from itemloaders>=1.0.1->scrapy) (1.0.0)\n",
      "Requirement already satisfied: six>=1.6.0 in ./opt/anaconda3/lib/python3.9/site-packages (from parsel>=1.5.0->scrapy) (1.16.0)\n",
      "Requirement already satisfied: pyasn1 in ./opt/anaconda3/lib/python3.9/site-packages (from service-identity>=16.0.0->scrapy) (0.4.8)\n",
      "Requirement already satisfied: pyasn1-modules in ./opt/anaconda3/lib/python3.9/site-packages (from service-identity>=16.0.0->scrapy) (0.2.8)\n",
      "Requirement already satisfied: attrs>=19.1.0 in ./opt/anaconda3/lib/python3.9/site-packages (from service-identity>=16.0.0->scrapy) (21.2.0)\n",
      "Requirement already satisfied: incremental>=21.3.0 in ./opt/anaconda3/lib/python3.9/site-packages (from Twisted>=17.9.0->scrapy) (21.3.0)\n",
      "Requirement already satisfied: constantly>=15.1 in ./opt/anaconda3/lib/python3.9/site-packages (from Twisted>=17.9.0->scrapy) (15.1.0)\n",
      "Requirement already satisfied: Automat>=0.8.0 in ./opt/anaconda3/lib/python3.9/site-packages (from Twisted>=17.9.0->scrapy) (20.2.0)\n",
      "Requirement already satisfied: hyperlink>=17.1.1 in ./opt/anaconda3/lib/python3.9/site-packages (from Twisted>=17.9.0->scrapy) (21.0.0)\n",
      "Requirement already satisfied: typing-extensions>=3.6.5 in ./opt/anaconda3/lib/python3.9/site-packages (from Twisted>=17.9.0->scrapy) (3.10.0.2)\n",
      "Requirement already satisfied: idna>=2.5 in ./opt/anaconda3/lib/python3.9/site-packages (from hyperlink>=17.1.1->Twisted>=17.9.0->scrapy) (3.2)\n",
      "Requirement already satisfied: filelock>=3.0.8 in ./opt/anaconda3/lib/python3.9/site-packages (from tldextract->scrapy) (3.3.1)\n",
      "Requirement already satisfied: requests>=2.1.0 in ./opt/anaconda3/lib/python3.9/site-packages (from tldextract->scrapy) (2.26.0)\n",
      "Requirement already satisfied: requests-file>=1.4 in ./opt/anaconda3/lib/python3.9/site-packages (from tldextract->scrapy) (1.5.1)\n",
      "Requirement already satisfied: urllib3<1.27,>=1.21.1 in ./opt/anaconda3/lib/python3.9/site-packages (from requests>=2.1.0->tldextract->scrapy) (1.26.7)\n",
      "Requirement already satisfied: certifi>=2017.4.17 in ./opt/anaconda3/lib/python3.9/site-packages (from requests>=2.1.0->tldextract->scrapy) (2021.10.8)\n",
      "Requirement already satisfied: charset-normalizer~=2.0.0 in ./opt/anaconda3/lib/python3.9/site-packages (from requests>=2.1.0->tldextract->scrapy) (2.0.4)\n",
      "New Scrapy project 'example1', using template directory '/Users/kuznetsovartem/opt/anaconda3/lib/python3.9/site-packages/scrapy/templates/project', created in:\n",
      "    /Users/kuznetsovartem/example1/example1\n",
      "\n",
      "You can start your first spider with:\n",
      "    cd example1\n",
      "    scrapy genspider example example.com\n"
     ]
    }
   ],
   "source": [
    "!pip install scrapy\n",
    "import scrapy\n",
    "import os\n",
    "os.mkdir('example1')\n",
    "os.chdir('example1')\n",
    "!scrapy startproject example1"
   ]
  },
  {
   "cell_type": "code",
   "execution_count": 4,
   "metadata": {
    "id": "9n3AQN2mgXPA"
   },
   "outputs": [],
   "source": [
    "os.chdir('example1/example1/spiders')\n",
    "with open('spider.py', 'w') as f:\n",
    "    f.write(\"\"\"\n",
    "import scrapy \n",
    "from scrapy.selector import Selector\n",
    "import pandas as pd\n",
    "\n",
    "class firstSpider(scrapy.Spider): \n",
    "  name = \"basic\"\n",
    "  start_urls = [ \n",
    "    \"https://ru.wikipedia.org/wiki/Всероссийская_перепись_населения_(2020—2021)\"\n",
    "   ]\n",
    "\n",
    "  def parse(self, response):\n",
    "      products = response.xpath('//td/text()')\n",
    "      new_products = []\n",
    "      for i in products:\n",
    "          if i.extract() != '\\\\n' and i.extract() != ' ' and i.extract() != 'в том числе:' and i.extract() != '1':\n",
    "              new_products.append(i)\n",
    "\n",
    "      regions = []\n",
    "      population = []\n",
    "\n",
    "      for i in range(0, len(new_products) - 50, 9):\n",
    "        regions.append(new_products[i].extract().replace(\"г.\", \"\").replace(\"Республика\", \"\").strip())\n",
    "\n",
    "      for i in range(1, len(new_products) - 50, 9):\n",
    "        population.append(new_products[i].extract())\n",
    "      \n",
    "      x = pd.DataFrame(data={'regions': regions, 'population': population})\n",
    "      sorted_df = x.sort_values(by='regions')\n",
    "      sorted_df.set_index('regions', inplace=True)\n",
    "      sorted_df.to_csv(\"result.csv\", sep=\",\")\n",
    "      \"\"\")\n",
    "os.chdir('../../..')"
   ]
  },
  {
   "cell_type": "code",
   "execution_count": 9,
   "metadata": {},
   "outputs": [],
   "source": [
    "# если вы решите запустить следующую ячейку у себя, она не будет работать. Для корректной работы необходимо изменить \n",
    "# путь к файлу на верный \n",
    "# если вы на маке, то замените myname на вашего юзера,\n",
    "# если на винде - то я не тестил, но найдите папку example1 и укажите к ней путь"
   ]
  },
  {
   "cell_type": "code",
   "execution_count": 6,
   "metadata": {
    "colab": {
     "base_uri": "https://localhost:8080/"
    },
    "id": "EBr0RRnSgY0o",
    "outputId": "9e6f91af-08e1-4e08-acc9-e833f5689f95"
   },
   "outputs": [
    {
     "name": "stdout",
     "output_type": "stream",
     "text": [
      "2022-06-13 18:47:08 [scrapy.utils.log] INFO: Scrapy 2.6.1 started (bot: scrapybot)\n",
      "2022-06-13 18:47:08 [scrapy.utils.log] INFO: Versions: lxml 4.6.3.0, libxml2 2.9.12, cssselect 1.1.0, parsel 1.6.0, w3lib 1.22.0, Twisted 22.4.0, Python 3.9.7 (default, Sep 16 2021, 08:50:36) - [Clang 10.0.0 ], pyOpenSSL 21.0.0 (OpenSSL 1.1.1l  24 Aug 2021), cryptography 3.4.8, Platform macOS-10.16-x86_64-i386-64bit\n",
      "2022-06-13 18:47:09 [numexpr.utils] INFO: NumExpr defaulting to 8 threads.\n",
      "2022-06-13 18:47:09 [scrapy.crawler] INFO: Overridden settings:\n",
      "{'SPIDER_LOADER_WARN_ONLY': True}\n",
      "2022-06-13 18:47:09 [scrapy.utils.log] DEBUG: Using reactor: twisted.internet.selectreactor.SelectReactor\n",
      "2022-06-13 18:47:09 [scrapy.extensions.telnet] INFO: Telnet Password: 13ff6c978467dfb3\n",
      "2022-06-13 18:47:09 [scrapy.middleware] INFO: Enabled extensions:\n",
      "['scrapy.extensions.corestats.CoreStats',\n",
      " 'scrapy.extensions.telnet.TelnetConsole',\n",
      " 'scrapy.extensions.memusage.MemoryUsage',\n",
      " 'scrapy.extensions.logstats.LogStats']\n",
      "2022-06-13 18:47:09 [scrapy.middleware] INFO: Enabled downloader middlewares:\n",
      "['scrapy.downloadermiddlewares.httpauth.HttpAuthMiddleware',\n",
      " 'scrapy.downloadermiddlewares.downloadtimeout.DownloadTimeoutMiddleware',\n",
      " 'scrapy.downloadermiddlewares.defaultheaders.DefaultHeadersMiddleware',\n",
      " 'scrapy.downloadermiddlewares.useragent.UserAgentMiddleware',\n",
      " 'scrapy.downloadermiddlewares.retry.RetryMiddleware',\n",
      " 'scrapy.downloadermiddlewares.redirect.MetaRefreshMiddleware',\n",
      " 'scrapy.downloadermiddlewares.httpcompression.HttpCompressionMiddleware',\n",
      " 'scrapy.downloadermiddlewares.redirect.RedirectMiddleware',\n",
      " 'scrapy.downloadermiddlewares.cookies.CookiesMiddleware',\n",
      " 'scrapy.downloadermiddlewares.httpproxy.HttpProxyMiddleware',\n",
      " 'scrapy.downloadermiddlewares.stats.DownloaderStats']\n",
      "2022-06-13 18:47:09 [scrapy.middleware] INFO: Enabled spider middlewares:\n",
      "['scrapy.spidermiddlewares.httperror.HttpErrorMiddleware',\n",
      " 'scrapy.spidermiddlewares.offsite.OffsiteMiddleware',\n",
      " 'scrapy.spidermiddlewares.referer.RefererMiddleware',\n",
      " 'scrapy.spidermiddlewares.urllength.UrlLengthMiddleware',\n",
      " 'scrapy.spidermiddlewares.depth.DepthMiddleware']\n",
      "2022-06-13 18:47:09 [scrapy.middleware] INFO: Enabled item pipelines:\n",
      "[]\n",
      "2022-06-13 18:47:09 [scrapy.core.engine] INFO: Spider opened\n",
      "2022-06-13 18:47:10 [scrapy.extensions.logstats] INFO: Crawled 0 pages (at 0 pages/min), scraped 0 items (at 0 items/min)\n",
      "2022-06-13 18:47:10 [scrapy.extensions.telnet] INFO: Telnet console listening on 127.0.0.1:6023\n",
      "2022-06-13 18:47:10 [filelock] DEBUG: Attempting to acquire lock 140207854200912 on /Users/kuznetsovartem/.cache/python-tldextract/3.9.7.final__anaconda3__1f03e7__tldextract-3.3.0/publicsuffix.org-tlds/de84b5ca2167d4c83e38fb162f2e8738.tldextract.json.lock\n",
      "2022-06-13 18:47:10 [filelock] DEBUG: Lock 140207854200912 acquired on /Users/kuznetsovartem/.cache/python-tldextract/3.9.7.final__anaconda3__1f03e7__tldextract-3.3.0/publicsuffix.org-tlds/de84b5ca2167d4c83e38fb162f2e8738.tldextract.json.lock\n",
      "2022-06-13 18:47:10 [filelock] DEBUG: Attempting to acquire lock 140207854359456 on /Users/kuznetsovartem/.cache/python-tldextract/3.9.7.final__anaconda3__1f03e7__tldextract-3.3.0/urls/62bf135d1c2f3d4db4228b9ecaf507a2.tldextract.json.lock\n",
      "2022-06-13 18:47:10 [filelock] DEBUG: Lock 140207854359456 acquired on /Users/kuznetsovartem/.cache/python-tldextract/3.9.7.final__anaconda3__1f03e7__tldextract-3.3.0/urls/62bf135d1c2f3d4db4228b9ecaf507a2.tldextract.json.lock\n",
      "2022-06-13 18:47:10 [urllib3.connectionpool] DEBUG: Starting new HTTPS connection (1): publicsuffix.org:443\n",
      "2022-06-13 18:47:10 [urllib3.connectionpool] DEBUG: https://publicsuffix.org:443 \"GET /list/public_suffix_list.dat HTTP/1.1\" 200 None\n",
      "2022-06-13 18:47:10 [filelock] DEBUG: Attempting to release lock 140207854359456 on /Users/kuznetsovartem/.cache/python-tldextract/3.9.7.final__anaconda3__1f03e7__tldextract-3.3.0/urls/62bf135d1c2f3d4db4228b9ecaf507a2.tldextract.json.lock\n",
      "2022-06-13 18:47:10 [filelock] DEBUG: Lock 140207854359456 released on /Users/kuznetsovartem/.cache/python-tldextract/3.9.7.final__anaconda3__1f03e7__tldextract-3.3.0/urls/62bf135d1c2f3d4db4228b9ecaf507a2.tldextract.json.lock\n",
      "2022-06-13 18:47:10 [filelock] DEBUG: Attempting to release lock 140207854200912 on /Users/kuznetsovartem/.cache/python-tldextract/3.9.7.final__anaconda3__1f03e7__tldextract-3.3.0/publicsuffix.org-tlds/de84b5ca2167d4c83e38fb162f2e8738.tldextract.json.lock\n",
      "2022-06-13 18:47:10 [filelock] DEBUG: Lock 140207854200912 released on /Users/kuznetsovartem/.cache/python-tldextract/3.9.7.final__anaconda3__1f03e7__tldextract-3.3.0/publicsuffix.org-tlds/de84b5ca2167d4c83e38fb162f2e8738.tldextract.json.lock\n",
      "2022-06-13 18:47:10 [scrapy.core.engine] DEBUG: Crawled (200) <GET https://ru.wikipedia.org/wiki/%D0%92%D1%81%D0%B5%D1%80%D0%BE%D1%81%D1%81%D0%B8%D0%B9%D1%81%D0%BA%D0%B0%D1%8F_%D0%BF%D0%B5%D1%80%D0%B5%D0%BF%D0%B8%D1%81%D1%8C_%D0%BD%D0%B0%D1%81%D0%B5%D0%BB%D0%B5%D0%BD%D0%B8%D1%8F_(2020%E2%80%942021)> (referer: None)\n",
      "2022-06-13 18:47:11 [scrapy.core.engine] INFO: Closing spider (finished)\n",
      "2022-06-13 18:47:11 [scrapy.statscollectors] INFO: Dumping Scrapy stats:\n",
      "{'downloader/request_bytes': 427,\n",
      " 'downloader/request_count': 1,\n",
      " 'downloader/request_method_count/GET': 1,\n",
      " 'downloader/response_bytes': 42247,\n",
      " 'downloader/response_count': 1,\n",
      " 'downloader/response_status_count/200': 1,\n",
      " 'elapsed_time_seconds': 0.916459,\n",
      " 'finish_reason': 'finished',\n",
      " 'finish_time': datetime.datetime(2022, 6, 13, 15, 47, 11, 12773),\n",
      " 'httpcompression/response_bytes': 228303,\n",
      " 'httpcompression/response_count': 1,\n",
      " 'log_count/DEBUG': 12,\n",
      " 'log_count/INFO': 10,\n",
      " 'memusage/max': 105996288,\n",
      " 'memusage/startup': 105992192,\n",
      " 'response_received_count': 1,\n",
      " 'scheduler/dequeued': 1,\n",
      " 'scheduler/dequeued/memory': 1,\n",
      " 'scheduler/enqueued': 1,\n",
      " 'scheduler/enqueued/memory': 1,\n",
      " 'start_time': datetime.datetime(2022, 6, 13, 15, 47, 10, 96314)}\n",
      "2022-06-13 18:47:11 [scrapy.core.engine] INFO: Spider closed (finished)\n"
     ]
    }
   ],
   "source": [
    "!scrapy runspider /Users/myname/example1/example1/example1/spiders/spider.py"
   ]
  },
  {
   "cell_type": "code",
   "execution_count": null,
   "metadata": {},
   "outputs": [],
   "source": []
  }
 ],
 "metadata": {
  "colab": {
   "collapsed_sections": [],
   "name": "Untitled8.ipynb",
   "provenance": []
  },
  "kernelspec": {
   "display_name": "Python 3 (ipykernel)",
   "language": "python",
   "name": "python3"
  },
  "language_info": {
   "codemirror_mode": {
    "name": "ipython",
    "version": 3
   },
   "file_extension": ".py",
   "mimetype": "text/x-python",
   "name": "python",
   "nbconvert_exporter": "python",
   "pygments_lexer": "ipython3",
   "version": "3.9.7"
  }
 },
 "nbformat": 4,
 "nbformat_minor": 1
}
